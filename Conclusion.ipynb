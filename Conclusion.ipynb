{
 "cells": [
  {
   "cell_type": "markdown",
   "id": "3d0a438d",
   "metadata": {},
   "source": [
    "## LSTM Stock Predictor\n",
    "\n",
    "The output of both LSTM Stock Predictor models proved that closing prices performed better overall as compared to the Fear and Greed Index.\n",
    "\n",
    "1. Which model has a lower loss?\n",
    "    - LSTM Closing Prices with a loss .05% compared to 15% from FNG \n",
    "2. Which model tracks the actual values better over time?\n",
    "    - LSTM Closing Prices tracked better over time with a nearly identical trend to the Real values.\n",
    "3. Which window size works best for the model?\n",
    "    - A window size of 10"
   ]
  }
 ],
 "metadata": {
  "kernelspec": {
   "display_name": "Python [conda env:pyvizenv] *",
   "language": "python",
   "name": "conda-env-pyvizenv-py"
  },
  "language_info": {
   "codemirror_mode": {
    "name": "ipython",
    "version": 3
   },
   "file_extension": ".py",
   "mimetype": "text/x-python",
   "name": "python",
   "nbconvert_exporter": "python",
   "pygments_lexer": "ipython3",
   "version": "3.7.10"
  }
 },
 "nbformat": 4,
 "nbformat_minor": 5
}
